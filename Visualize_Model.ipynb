{
  "nbformat": 4,
  "nbformat_minor": 0,
  "metadata": {
    "colab": {
      "name": "Visualize_Model.ipynb",
      "provenance": [],
      "authorship_tag": "ABX9TyOUJ1ThUz+FcGO9ZlyNXFfS",
      "include_colab_link": true
    },
    "kernelspec": {
      "name": "python3",
      "display_name": "Python 3"
    }
  },
  "cells": [
    {
      "cell_type": "markdown",
      "metadata": {
        "id": "view-in-github",
        "colab_type": "text"
      },
      "source": [
        "<a href=\"https://colab.research.google.com/github/hsshih/Kaggle_Galaxy_Classification/blob/main/Visualize_Model.ipynb\" target=\"_parent\"><img src=\"https://colab.research.google.com/assets/colab-badge.svg\" alt=\"Open In Colab\"/></a>"
      ]
    },
    {
      "cell_type": "code",
      "metadata": {
        "id": "cV31lXC-GHQK"
      },
      "source": [
        "# importing libraries\n",
        "from tensorflow.keras.preprocessing.image import load_img\n",
        "from tensorflow.keras.preprocessing.image import img_to_array\n",
        "from tensorflow.keras.models import Model\n",
        "from tensorflow.keras.models import model_from_json\n",
        "from matplotlib import pyplot\n",
        "from numpy import expand_dims\n"
      ],
      "execution_count": null,
      "outputs": []
    },
    {
      "cell_type": "code",
      "metadata": {
        "id": "gvvRIBhKGN3z"
      },
      "source": [
        "img_width, img_height = 212, 212\n",
        "\n",
        "# load json and create model\n",
        "json_file = open('model.json', 'r')\n",
        "loaded_model_json = json_file.read()\n",
        "json_file.close()\n",
        "model = model_from_json(loaded_model_json)\n",
        "# load weights into new model\n",
        "model.load_weights(\"model.h5\")\n",
        "print(\"Loaded model from disk\")\n",
        "\n",
        "for i in range(len(model.layers)):\n",
        "    layer = model.layers[i]\n",
        "    # check for convolutional layer\n",
        "    if 'conv' not in layer.name:\n",
        "        continue\n",
        "    # summarize output shape\n",
        "    print(i, layer.name, layer.output.shape)\n",
        "\n",
        "# retrieve weights from the first hidden layer\n",
        "filters, biases = model.layers[0].get_weights()\n",
        "\n",
        "# normalize filter values to 0-1 so we can visualize them\n",
        "f_min, f_max = filters.min(), filters.max()\n",
        "filters = (filters - f_min) / (f_max - f_min)\n",
        "\n",
        "# plot first few filters\n",
        "n_filters, ix = 6, 1\n",
        "for i in range(n_filters):\n",
        "    # get the filter\n",
        "    f = filters[:, :, :, i]\n",
        "    # plot each channel separately\n",
        "    for j in range(3):\n",
        "        # specify subplot and turn of axis\n",
        "        ax = pyplot.subplot(n_filters, 3, ix)\n",
        "        ax.set_xticks([])\n",
        "        ax.set_yticks([])\n",
        "        # plot filter channel in grayscale\n",
        "        pyplot.imshow(f[:, :, j], cmap='gray')\n",
        "        ix += 1\n",
        "# show the figure\n",
        "pyplot.show()\n",
        "\n",
        "# redefine model to output right after the first pooling layer\n",
        "model_1 = Model(inputs=model.inputs, outputs=model.layers[2].output)\n",
        "model_1.summary()\n",
        "\n",
        "# load the example image, make a prediction, and get feature maps\n",
        "#img = load_img('spiral_example1.jpg', target_size=(img_width, img_height))\n",
        "img = load_img('elliptical_example1.jpg', target_size=(img_width, img_height))\n",
        "img = img_to_array(img)\n",
        "img = expand_dims(img, axis=0)\n",
        "feature_maps = model_1.predict(img)\n",
        "#numpy.shape(feature_maps)\n",
        "\n",
        "# plot all 32 maps in an 8x4 squares\n",
        "rows = 4\n",
        "columns = 8\n",
        "ix = 1\n",
        "for _ in range(rows):\n",
        "    for _ in range(columns):\n",
        "        # specify subplot and turn of axis\n",
        "        ax = pyplot.subplot(rows, columns, ix)\n",
        "        ax.set_xticks([])\n",
        "        ax.set_yticks([])\n",
        "        # plot filter channel in grayscale\n",
        "        pyplot.imshow(feature_maps[ 0, :, :, ix-1], cmap='gray')\n",
        "        ix += 1\n",
        "# save the figure\n",
        "pyplot.savefig('features1.png')"
      ],
      "execution_count": null,
      "outputs": []
    }
  ]
}