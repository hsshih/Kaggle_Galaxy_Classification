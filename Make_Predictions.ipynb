{
  "nbformat": 4,
  "nbformat_minor": 0,
  "metadata": {
    "colab": {
      "name": "Make_Predictions.ipynb",
      "provenance": [],
      "authorship_tag": "ABX9TyMJSv67C0IMR9330HA3hT/U",
      "include_colab_link": true
    },
    "kernelspec": {
      "name": "python3",
      "display_name": "Python 3"
    }
  },
  "cells": [
    {
      "cell_type": "markdown",
      "metadata": {
        "id": "view-in-github",
        "colab_type": "text"
      },
      "source": [
        "<a href=\"https://colab.research.google.com/github/hsshih/Kaggle_Galaxy_Classification/blob/main/Make_Predictions.ipynb\" target=\"_parent\"><img src=\"https://colab.research.google.com/assets/colab-badge.svg\" alt=\"Open In Colab\"/></a>"
      ]
    },
    {
      "cell_type": "code",
      "metadata": {
        "id": "8xCqY42nA1u1"
      },
      "source": [
        "# importing libraries\n",
        "from tensorflow.keras.preprocessing.image import load_img\n",
        "from tensorflow.keras.preprocessing.image import img_to_array\n",
        "from tensorflow.keras.models import Model\n",
        "from tensorflow.keras.models import model_from_json\n",
        "#from matplotlib import pyplot\n",
        "from numpy import expand_dims\n",
        "from os import listdir"
      ],
      "execution_count": null,
      "outputs": []
    },
    {
      "cell_type": "code",
      "metadata": {
        "id": "TpeE_meSA9kI"
      },
      "source": [
        "img_width, img_height = 212, 212\n",
        "\n",
        "data_dir = 'data/test/elliptical/'\n",
        "print(data_dir)\n",
        "\n",
        "# load json and create model\n",
        "json_file = open('model.json', 'r')\n",
        "loaded_model_json = json_file.read()\n",
        "json_file.close()\n",
        "model = model_from_json(loaded_model_json)\n",
        "# load weights into new model\n",
        "model.load_weights(\"model.h5\")\n",
        "print(\"Loaded model from disk\")\n",
        "\n",
        "# load the images and make prediction\n",
        "filelist = listdir(data_dir)\n",
        "\n",
        "for file in filelist:\n",
        "    img = load_img(data_dir+file, target_size=(img_width, img_height))\n",
        "    img = img_to_array(img)\n",
        "    img = expand_dims(img, axis=0)\n",
        "    prediction = model.predict_classes(img)\n",
        "    print(file, prediction[0,0])"
      ],
      "execution_count": null,
      "outputs": []
    }
  ]
}